{
 "cells": [
  {
   "cell_type": "markdown",
   "metadata": {},
   "source": [
    "## This model constuct a networkx graph from data using the following nodes\n",
    "\n",
    "### Nodes:\n",
    "- City: aggregate all stations within a city\n",
    "\n",
    "### Edges:\n",
    "- BikeTrip: bike trip between cities"
   ]
  },
  {
   "cell_type": "code",
   "execution_count": null,
   "metadata": {},
   "outputs": [],
   "source": [
    "import pandas as pd\n",
    "import networkx as nx\n",
    "from graphgen import fix_columns, create_graph"
   ]
  },
  {
   "cell_type": "code",
   "execution_count": null,
   "metadata": {},
   "outputs": [],
   "source": [
    "trips_filename = '../data//201508_trip_data.csv'\n",
    "stations_filename = '../data/201508_station_data.csv'\n",
    "\n",
    "trips_df = pd.read_csv(trips_filename)\n",
    "stations_df = pd.read_csv(stations_filename)\n",
    "\n",
    "# if columns have spaces in their names we need to replace them with underscore\n",
    "fix_columns(trips_df)\n",
    "fix_columns(stations_df)"
   ]
  },
  {
   "cell_type": "code",
   "execution_count": null,
   "metadata": {},
   "outputs": [],
   "source": [
    "display(stations_df.head())"
   ]
  },
  {
   "cell_type": "code",
   "execution_count": null,
   "metadata": {
    "scrolled": true
   },
   "outputs": [],
   "source": [
    "display(stations_df['landmark'].unique())"
   ]
  },
  {
   "cell_type": "code",
   "execution_count": null,
   "metadata": {},
   "outputs": [],
   "source": [
    "trips_df.loc[0,'Start_Terminal']"
   ]
  },
  {
   "cell_type": "code",
   "execution_count": null,
   "metadata": {},
   "outputs": [],
   "source": [
    "display(stations_df[stations_df.station_id == trips_df.loc[0, 'Start_Terminal']]['landmark'])"
   ]
  },
  {
   "cell_type": "code",
   "execution_count": null,
   "metadata": {},
   "outputs": [],
   "source": [
    "city_df = stations_df[['station_id', 'landmark']]\n",
    "city_df.set_index('station_id', inplace=True)"
   ]
  },
  {
   "cell_type": "code",
   "execution_count": null,
   "metadata": {},
   "outputs": [],
   "source": [
    "# city_df.set_index('station_id', inplace=True)\n",
    "landmark_dict = city_df['landmark'].to_dict()"
   ]
  },
  {
   "cell_type": "code",
   "execution_count": null,
   "metadata": {},
   "outputs": [],
   "source": [
    "station_mapper = {\n",
    "    'nodes': [\n",
    "        {\n",
    "            'type'      : 'City',\n",
    "            'key'       : 'city_id',\n",
    "            'attributes': ['landmark']\n",
    "        },\n",
    "    ]\n",
    "}\n",
    "\n",
    "edges_mapper = {\n",
    "    'edges': [\n",
    "        {\n",
    "            'type'      : 'BikeTrip',\n",
    "            'from'      : {\n",
    "                'key'     :'city_id',\n",
    "                'node_key': 'city_id'\n",
    "            },\n",
    "            'to'        : {\n",
    "                'key'     : 'city_id',\n",
    "                'node_key': 'city_id'\n",
    "            },\n",
    "            'attributes': ['Trip_ID', 'Start_Date', 'End_Date', 'Duration']\n",
    "        }\n",
    "    ]\n",
    "}"
   ]
  }
 ],
 "metadata": {
  "kernelspec": {
   "display_name": "Python 3",
   "language": "python",
   "name": "python3"
  },
  "language_info": {
   "codemirror_mode": {
    "name": "ipython",
    "version": 3
   },
   "file_extension": ".py",
   "mimetype": "text/x-python",
   "name": "python",
   "nbconvert_exporter": "python",
   "pygments_lexer": "ipython3",
   "version": "3.6.8"
  }
 },
 "nbformat": 4,
 "nbformat_minor": 2
}
