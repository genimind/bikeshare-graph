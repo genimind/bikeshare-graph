{
 "cells": [
  {
   "cell_type": "markdown",
   "metadata": {},
   "source": [
    "## This model constuct a networkx graph from data using the following nodes and edges\n",
    "\n",
    "### Nodes:\n",
    "- Station\n",
    "- Bike\n",
    "\n",
    "### Edges:\n",
    "- TripFrom (from Station to bike)\n",
    "- TripTo   (bike to Station)"
   ]
  },
  {
   "cell_type": "code",
   "execution_count": null,
   "metadata": {},
   "outputs": [],
   "source": [
    "import pandas as pd\n",
    "import networkx as nx\n",
    "from graphgen import fix_columns, create_graph"
   ]
  },
  {
   "cell_type": "code",
   "execution_count": null,
   "metadata": {},
   "outputs": [],
   "source": [
    "trips_filename = '../data/201508_trip_data.csv'\n",
    "stations_filename = '../data/201508_station_data.csv'\n",
    "\n",
    "trips_df = pd.read_csv(trips_filename)\n",
    "stations_df = pd.read_csv(stations_filename)\n",
    "\n",
    "# if columns have spaces in their names we need to replace them with underscore\n",
    "fix_columns(trips_df)\n",
    "fix_columns(stations_df)"
   ]
  },
  {
   "cell_type": "code",
   "execution_count": null,
   "metadata": {},
   "outputs": [],
   "source": [
    "station_mapper = {\n",
    "    'nodes': [\n",
    "        {\n",
    "            'type'      : 'Station',\n",
    "            'key'       : 'station_id',\n",
    "            'attributes': ['station_id', 'name', 'lat', 'long', 'landmark']\n",
    "        }\n",
    "    ]\n",
    "}\n",
    "\n",
    "bike_mapper = {\n",
    "    'nodes': [\n",
    "        {\n",
    "            'type'      : 'Bike',\n",
    "            'key'       : 'Bike_#',\n",
    "            'attributes': ['Bike_#']\n",
    "        },\n",
    "    ]\n",
    "}\n",
    "\n",
    "edges_mapper = {\n",
    "    'edges': [\n",
    "        {\n",
    "            'type'      : 'TripFrom',\n",
    "            'from'      : {\n",
    "                'key'     :'Start_Terminal',\n",
    "                'node_key': 'station_id'\n",
    "            },\n",
    "            'to'        : {\n",
    "                'key'     : 'Bike_#',\n",
    "                'node_key': 'Bike_#'\n",
    "            },\n",
    "            'attributes': ['Trip_ID', 'Start_Date']\n",
    "        },\n",
    "        {\n",
    "            'type'      : 'TripTp',\n",
    "            'from'        : {\n",
    "                'key'     : 'Bike_#',\n",
    "                'node_key': 'Bike_#'\n",
    "            },\n",
    "            'to'      : {\n",
    "                'key'     :'End_Terminal',\n",
    "                'node_key': 'station_id'\n",
    "            },\n",
    "            'attributes': ['Trip_ID', 'End_Date']\n",
    "        }\n",
    "    ]\n",
    "}"
   ]
  },
  {
   "cell_type": "code",
   "execution_count": null,
   "metadata": {},
   "outputs": [],
   "source": [
    "display(stations_df.head())"
   ]
  },
  {
   "cell_type": "code",
   "execution_count": null,
   "metadata": {},
   "outputs": [],
   "source": [
    "# make sure that second set of nodes does have a unique IDs\n",
    "# In this example we'll keep the stations as is, and replace the Bike # with the same number appended with 555\n",
    "trips_df['Bike_#'] = trips_df['Bike_#'].apply(lambda x : 5550000 + x)"
   ]
  },
  {
   "cell_type": "code",
   "execution_count": null,
   "metadata": {},
   "outputs": [],
   "source": [
    "display(trips_df.head())"
   ]
  },
  {
   "cell_type": "code",
   "execution_count": null,
   "metadata": {},
   "outputs": [],
   "source": [
    "\n",
    "# construct a bidirectional multi-edge graph object\n",
    "g = nx.MultiDiGraph()\n",
    "\n",
    "%time g = create_graph(g, graph_mapper = station_mapper, \\\n",
    "                 data_provider = stations_df, update=False)\n",
    "\n",
    "%time g = create_graph(g, graph_mapper = bike_mapper, \\\n",
    "                 data_provider = trips_df, update=False)\n",
    "\n",
    "%time g = create_graph(g, graph_mapper = edges_mapper, \\\n",
    "                 data_provider = trips_df)"
   ]
  },
  {
   "cell_type": "code",
   "execution_count": null,
   "metadata": {
    "scrolled": false
   },
   "outputs": [],
   "source": [
    "# print(g.get_edge_data(50, 5550288))"
   ]
  },
  {
   "cell_type": "code",
   "execution_count": null,
   "metadata": {},
   "outputs": [],
   "source": []
  }
 ],
 "metadata": {
  "kernelspec": {
   "display_name": "Python 3",
   "language": "python",
   "name": "python3"
  },
  "language_info": {
   "codemirror_mode": {
    "name": "ipython",
    "version": 3
   },
   "file_extension": ".py",
   "mimetype": "text/x-python",
   "name": "python",
   "nbconvert_exporter": "python",
   "pygments_lexer": "ipython3",
   "version": "3.6.8"
  }
 },
 "nbformat": 4,
 "nbformat_minor": 2
}
