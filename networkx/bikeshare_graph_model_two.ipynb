{
 "cells": [
  {
   "cell_type": "markdown",
   "metadata": {},
   "source": [
    "## This model constuct a networkx graph from data using the following nodes and edges\n",
    "\n",
    "### Nodes:\n",
    "- Station\n",
    "- Bike\n",
    "\n",
    "### Edges:\n",
    "- TripFrom (from Station to bike)\n",
    "- TripTo   (bike to Station)"
   ]
  },
  {
   "cell_type": "code",
   "execution_count": 1,
   "metadata": {},
   "outputs": [],
   "source": [
    "import pandas as pd\n",
    "import networkx as nx\n",
    "from graphgen import fix_columns, create_graph"
   ]
  },
  {
   "cell_type": "code",
   "execution_count": 2,
   "metadata": {},
   "outputs": [],
   "source": [
    "trips_filename = '../data//201508_trip_data.csv'\n",
    "stations_filename = '../data/201508_station_data.csv'\n",
    "\n",
    "trips_df = pd.read_csv(trips_filename)\n",
    "stations_df = pd.read_csv(stations_filename)\n",
    "\n",
    "# if columns have spaces in their names we need to replace them with underscore\n",
    "fix_columns(trips_df)\n",
    "fix_columns(stations_df)"
   ]
  },
  {
   "cell_type": "code",
   "execution_count": 3,
   "metadata": {},
   "outputs": [],
   "source": [
    "station_mapper = {\n",
    "    'nodes': [\n",
    "        {\n",
    "            'type'      : 'Station',\n",
    "            'key'       : 'station_id',\n",
    "            'attributes': ['station_id', 'name', 'lat', 'long', 'landmark']\n",
    "        }\n",
    "    ]\n",
    "}\n",
    "\n",
    "bike_mapper = {\n",
    "    'nodes': [\n",
    "        {\n",
    "            'type'      : 'Bike',\n",
    "            'key'       : 'Bike_#',\n",
    "            'attributes': ['Bike_#']\n",
    "        },\n",
    "    ]\n",
    "}\n",
    "\n",
    "edges_mapper = {\n",
    "    'edges': [\n",
    "        {\n",
    "            'type'      : 'TripFrom',\n",
    "            'from'      : {\n",
    "                'key'     :'Start_Terminal',\n",
    "                'node_key': 'station_id'\n",
    "            },\n",
    "            'to'        : {\n",
    "                'key'     : 'Bike_#',\n",
    "                'node_key': 'Bike_#'\n",
    "            },\n",
    "            'attributes': ['Trip_ID', 'Start_Date']\n",
    "        },\n",
    "        {\n",
    "            'type'      : 'TripTp',\n",
    "            'from'        : {\n",
    "                'key'     : 'Bike_#',\n",
    "                'node_key': 'Bike_#'\n",
    "            },\n",
    "            'to'      : {\n",
    "                'key'     :'End_Terminal',\n",
    "                'node_key': 'station_id'\n",
    "            },\n",
    "            'attributes': ['Trip_ID', 'End_Date']\n",
    "        }\n",
    "    ]\n",
    "}"
   ]
  },
  {
   "cell_type": "code",
   "execution_count": 4,
   "metadata": {},
   "outputs": [],
   "source": [
    "# make sure that second set of nodes does have a unique IDs\n",
    "# In this example we'll keep the stations as is, and replace the Bike # with the same number appended with 555\n",
    "trips_df['Bike_#'] = trips_df['Bike_#'].apply(lambda x : 5550000 + x)"
   ]
  },
  {
   "cell_type": "code",
   "execution_count": 5,
   "metadata": {},
   "outputs": [
    {
     "data": {
      "text/html": [
       "<div>\n",
       "<style scoped>\n",
       "    .dataframe tbody tr th:only-of-type {\n",
       "        vertical-align: middle;\n",
       "    }\n",
       "\n",
       "    .dataframe tbody tr th {\n",
       "        vertical-align: top;\n",
       "    }\n",
       "\n",
       "    .dataframe thead th {\n",
       "        text-align: right;\n",
       "    }\n",
       "</style>\n",
       "<table border=\"1\" class=\"dataframe\">\n",
       "  <thead>\n",
       "    <tr style=\"text-align: right;\">\n",
       "      <th></th>\n",
       "      <th>Trip_ID</th>\n",
       "      <th>Duration</th>\n",
       "      <th>Start_Date</th>\n",
       "      <th>Start_Station</th>\n",
       "      <th>Start_Terminal</th>\n",
       "      <th>End_Date</th>\n",
       "      <th>End_Station</th>\n",
       "      <th>End_Terminal</th>\n",
       "      <th>Bike_#</th>\n",
       "      <th>Subscriber_Type</th>\n",
       "      <th>Zip_Code</th>\n",
       "    </tr>\n",
       "  </thead>\n",
       "  <tbody>\n",
       "    <tr>\n",
       "      <th>0</th>\n",
       "      <td>913460</td>\n",
       "      <td>765</td>\n",
       "      <td>8/31/2015 23:26</td>\n",
       "      <td>Harry Bridges Plaza (Ferry Building)</td>\n",
       "      <td>50</td>\n",
       "      <td>8/31/2015 23:39</td>\n",
       "      <td>San Francisco Caltrain (Townsend at 4th)</td>\n",
       "      <td>70</td>\n",
       "      <td>5550288</td>\n",
       "      <td>Subscriber</td>\n",
       "      <td>2139</td>\n",
       "    </tr>\n",
       "    <tr>\n",
       "      <th>1</th>\n",
       "      <td>913459</td>\n",
       "      <td>1036</td>\n",
       "      <td>8/31/2015 23:11</td>\n",
       "      <td>San Antonio Shopping Center</td>\n",
       "      <td>31</td>\n",
       "      <td>8/31/2015 23:28</td>\n",
       "      <td>Mountain View City Hall</td>\n",
       "      <td>27</td>\n",
       "      <td>5550035</td>\n",
       "      <td>Subscriber</td>\n",
       "      <td>95032</td>\n",
       "    </tr>\n",
       "    <tr>\n",
       "      <th>2</th>\n",
       "      <td>913455</td>\n",
       "      <td>307</td>\n",
       "      <td>8/31/2015 23:13</td>\n",
       "      <td>Post at Kearny</td>\n",
       "      <td>47</td>\n",
       "      <td>8/31/2015 23:18</td>\n",
       "      <td>2nd at South Park</td>\n",
       "      <td>64</td>\n",
       "      <td>5550468</td>\n",
       "      <td>Subscriber</td>\n",
       "      <td>94107</td>\n",
       "    </tr>\n",
       "    <tr>\n",
       "      <th>3</th>\n",
       "      <td>913454</td>\n",
       "      <td>409</td>\n",
       "      <td>8/31/2015 23:10</td>\n",
       "      <td>San Jose City Hall</td>\n",
       "      <td>10</td>\n",
       "      <td>8/31/2015 23:17</td>\n",
       "      <td>San Salvador at 1st</td>\n",
       "      <td>8</td>\n",
       "      <td>5550068</td>\n",
       "      <td>Subscriber</td>\n",
       "      <td>95113</td>\n",
       "    </tr>\n",
       "    <tr>\n",
       "      <th>4</th>\n",
       "      <td>913453</td>\n",
       "      <td>789</td>\n",
       "      <td>8/31/2015 23:09</td>\n",
       "      <td>Embarcadero at Folsom</td>\n",
       "      <td>51</td>\n",
       "      <td>8/31/2015 23:22</td>\n",
       "      <td>Embarcadero at Sansome</td>\n",
       "      <td>60</td>\n",
       "      <td>5550487</td>\n",
       "      <td>Customer</td>\n",
       "      <td>9069</td>\n",
       "    </tr>\n",
       "  </tbody>\n",
       "</table>\n",
       "</div>"
      ],
      "text/plain": [
       "   Trip_ID  Duration       Start_Date                         Start_Station  \\\n",
       "0   913460       765  8/31/2015 23:26  Harry Bridges Plaza (Ferry Building)   \n",
       "1   913459      1036  8/31/2015 23:11           San Antonio Shopping Center   \n",
       "2   913455       307  8/31/2015 23:13                        Post at Kearny   \n",
       "3   913454       409  8/31/2015 23:10                    San Jose City Hall   \n",
       "4   913453       789  8/31/2015 23:09                 Embarcadero at Folsom   \n",
       "\n",
       "   Start_Terminal         End_Date                               End_Station  \\\n",
       "0              50  8/31/2015 23:39  San Francisco Caltrain (Townsend at 4th)   \n",
       "1              31  8/31/2015 23:28                   Mountain View City Hall   \n",
       "2              47  8/31/2015 23:18                         2nd at South Park   \n",
       "3              10  8/31/2015 23:17                       San Salvador at 1st   \n",
       "4              51  8/31/2015 23:22                    Embarcadero at Sansome   \n",
       "\n",
       "   End_Terminal   Bike_# Subscriber_Type Zip_Code  \n",
       "0            70  5550288      Subscriber     2139  \n",
       "1            27  5550035      Subscriber    95032  \n",
       "2            64  5550468      Subscriber    94107  \n",
       "3             8  5550068      Subscriber    95113  \n",
       "4            60  5550487        Customer     9069  "
      ]
     },
     "metadata": {},
     "output_type": "display_data"
    }
   ],
   "source": [
    "display(trips_df.head())"
   ]
  },
  {
   "cell_type": "code",
   "execution_count": 11,
   "metadata": {},
   "outputs": [
    {
     "name": "stdout",
     "output_type": "stream",
     "text": [
      "70\n",
      "CPU times: user 2.41 ms, sys: 0 ns, total: 2.41 ms\n",
      "Wall time: 2.42 ms\n",
      "668\n",
      "CPU times: user 654 ms, sys: 2.02 ms, total: 656 ms\n",
      "Wall time: 657 ms\n",
      "CPU times: user 3.59 s, sys: 89.9 ms, total: 3.68 s\n",
      "Wall time: 3.68 s\n"
     ]
    }
   ],
   "source": [
    "\n",
    "# construct a bidirectional multi-edge graph object\n",
    "g = nx.MultiDiGraph()\n",
    "\n",
    "%time g = create_graph(g, graph_mapper = station_mapper, \\\n",
    "                 data_provider = stations_df, update=False)\n",
    "\n",
    "%time g = create_graph(g, graph_mapper = bike_mapper, \\\n",
    "                 data_provider = trips_df, update=False)\n",
    "\n",
    "%time g = create_graph(g, graph_mapper = edges_mapper, \\\n",
    "                 data_provider = trips_df)"
   ]
  },
  {
   "cell_type": "code",
   "execution_count": 12,
   "metadata": {},
   "outputs": [
    {
     "name": "stdout",
     "output_type": "stream",
     "text": [
      "{0: {'_type_': 'TripFrom', 'Trip_ID': 913460, 'Start_Date': '8/31/2015 23:26'}, 1: {'_type_': 'TripFrom', 'Trip_ID': 912762, 'Start_Date': '8/31/2015 16:47'}, 2: {'_type_': 'TripFrom', 'Trip_ID': 904150, 'Start_Date': '8/25/2015 9:49'}, 3: {'_type_': 'TripFrom', 'Trip_ID': 861625, 'Start_Date': '7/24/2015 22:04'}, 4: {'_type_': 'TripFrom', 'Trip_ID': 857373, 'Start_Date': '7/22/2015 13:37'}, 5: {'_type_': 'TripFrom', 'Trip_ID': 847865, 'Start_Date': '7/15/2015 15:47'}, 6: {'_type_': 'TripFrom', 'Trip_ID': 836035, 'Start_Date': '7/7/2015 10:55'}, 7: {'_type_': 'TripFrom', 'Trip_ID': 833282, 'Start_Date': '7/4/2015 15:58'}, 8: {'_type_': 'TripFrom', 'Trip_ID': 824284, 'Start_Date': '6/26/2015 17:23'}, 9: {'_type_': 'TripFrom', 'Trip_ID': 770041, 'Start_Date': '5/17/2015 10:38'}, 10: {'_type_': 'TripFrom', 'Trip_ID': 752024, 'Start_Date': '5/4/2015 13:59'}, 11: {'_type_': 'TripFrom', 'Trip_ID': 747377, 'Start_Date': '4/30/2015 9:26'}, 12: {'_type_': 'TripFrom', 'Trip_ID': 741039, 'Start_Date': '4/25/2015 17:20'}, 13: {'_type_': 'TripFrom', 'Trip_ID': 735753, 'Start_Date': '4/22/2015 7:59'}, 14: {'_type_': 'TripFrom', 'Trip_ID': 734790, 'Start_Date': '4/21/2015 15:46'}, 15: {'_type_': 'TripFrom', 'Trip_ID': 704960, 'Start_Date': '3/31/2015 6:20'}, 16: {'_type_': 'TripFrom', 'Trip_ID': 691308, 'Start_Date': '3/20/2015 16:38'}, 17: {'_type_': 'TripFrom', 'Trip_ID': 672416, 'Start_Date': '3/7/2015 23:43'}, 18: {'_type_': 'TripFrom', 'Trip_ID': 667158, 'Start_Date': '3/4/2015 9:19'}, 19: {'_type_': 'TripFrom', 'Trip_ID': 663371, 'Start_Date': '3/2/2015 8:59'}, 20: {'_type_': 'TripFrom', 'Trip_ID': 661049, 'Start_Date': '2/27/2015 10:47'}, 21: {'_type_': 'TripFrom', 'Trip_ID': 650202, 'Start_Date': '2/19/2015 13:19'}, 22: {'_type_': 'TripFrom', 'Trip_ID': 635380, 'Start_Date': '2/8/2015 17:03'}, 23: {'_type_': 'TripFrom', 'Trip_ID': 630822, 'Start_Date': '2/4/2015 7:59'}, 24: {'_type_': 'TripFrom', 'Trip_ID': 621612, 'Start_Date': '1/28/2015 8:46'}, 25: {'_type_': 'TripFrom', 'Trip_ID': 618244, 'Start_Date': '1/26/2015 9:03'}, 26: {'_type_': 'TripFrom', 'Trip_ID': 592261, 'Start_Date': '1/6/2015 8:22'}, 27: {'_type_': 'TripFrom', 'Trip_ID': 588674, 'Start_Date': '12/31/2014 13:11'}, 28: {'_type_': 'TripFrom', 'Trip_ID': 546870, 'Start_Date': '11/17/2014 8:08'}, 29: {'_type_': 'TripFrom', 'Trip_ID': 535999, 'Start_Date': '11/8/2014 15:02'}, 30: {'_type_': 'TripFrom', 'Trip_ID': 518178, 'Start_Date': '10/28/2014 7:14'}, 31: {'_type_': 'TripFrom', 'Trip_ID': 508155, 'Start_Date': '10/21/2014 10:24'}, 32: {'_type_': 'TripFrom', 'Trip_ID': 505395, 'Start_Date': '10/19/2014 12:41'}, 33: {'_type_': 'TripFrom', 'Trip_ID': 505035, 'Start_Date': '10/18/2014 17:20'}, 34: {'_type_': 'TripFrom', 'Trip_ID': 466900, 'Start_Date': '9/24/2014 6:35'}, 35: {'_type_': 'TripFrom', 'Trip_ID': 462192, 'Start_Date': '9/20/2014 14:18'}, 36: {'_type_': 'TripFrom', 'Trip_ID': 461523, 'Start_Date': '9/19/2014 17:28'}, 37: {'_type_': 'TripFrom', 'Trip_ID': 460383, 'Start_Date': '9/19/2014 8:03'}, 38: {'_type_': 'TripFrom', 'Trip_ID': 443786, 'Start_Date': '9/9/2014 7:09'}}\n"
     ]
    }
   ],
   "source": [
    "# print(g.get_edge_data(50, 5550288))"
   ]
  },
  {
   "cell_type": "code",
   "execution_count": null,
   "metadata": {},
   "outputs": [],
   "source": []
  }
 ],
 "metadata": {
  "kernelspec": {
   "display_name": "Python 3",
   "language": "python",
   "name": "python3"
  },
  "language_info": {
   "codemirror_mode": {
    "name": "ipython",
    "version": 3
   },
   "file_extension": ".py",
   "mimetype": "text/x-python",
   "name": "python",
   "nbconvert_exporter": "python",
   "pygments_lexer": "ipython3",
   "version": "3.6.8"
  }
 },
 "nbformat": 4,
 "nbformat_minor": 2
}
