{
 "cells": [
  {
   "cell_type": "markdown",
   "metadata": {},
   "source": [
    "## This model constuct a networkx graph from data using the following nodes\n",
    "\n",
    "### Nodes:\n",
    "- Station\n",
    "\n",
    "### Edges:\n",
    "- Trip: bike trip between stations"
   ]
  },
  {
   "cell_type": "code",
   "execution_count": 1,
   "metadata": {},
   "outputs": [],
   "source": [
    "import pandas as pd\n",
    "import networkx as nx"
   ]
  },
  {
   "cell_type": "code",
   "execution_count": 25,
   "metadata": {},
   "outputs": [],
   "source": [
    "def fix_columns(df):\n",
    "    if any(' ' in x for x in df.columns):\n",
    "        col_rename = dict()\n",
    "        for c in df.columns:\n",
    "            col_rename[c] = c.replace(' ', '_')\n",
    "        df.rename(columns=col_rename, inplace = True)\n",
    "#     print(df.columns)"
   ]
  },
  {
   "cell_type": "code",
   "execution_count": 26,
   "metadata": {},
   "outputs": [],
   "source": [
    "trips_filename = '../data//201508_trip_data.csv'\n",
    "stations_filename = '../data/201508_station_data.csv'\n",
    "\n",
    "trips_df = pd.read_csv(trips_filename)\n",
    "stations_df = pd.read_csv(stations_filename)\n",
    "\n",
    "# if columns have spaces in their names we need to replace them with underscore\n",
    "fix_columns(trips_df)\n",
    "fix_columns(stations_df)\n"
   ]
  },
  {
   "cell_type": "code",
   "execution_count": 27,
   "metadata": {},
   "outputs": [
    {
     "name": "stdout",
     "output_type": "stream",
     "text": [
      "Index(['Trip_ID', 'Duration', 'Start_Date', 'Start_Station', 'Start_Terminal',\n",
      "       'End_Date', 'End_Station', 'End_Terminal', 'Bike_#', 'Subscriber_Type',\n",
      "       'Zip_Code'],\n",
      "      dtype='object')\n"
     ]
    }
   ],
   "source": [
    "# print(trips_df.columns)"
   ]
  },
  {
   "cell_type": "code",
   "execution_count": 30,
   "metadata": {},
   "outputs": [],
   "source": [
    "from enum import Enum\n",
    "\n",
    "class GraphEdges(Enum):\n",
    "    UNIDIR = 1\n",
    "    BIDIR  = 2\n",
    "    \n",
    "\n",
    "mapper = {\n",
    "    'nodes': [\n",
    "        {\n",
    "            'type'      : 'Station',\n",
    "            'key'       : 'station_id',\n",
    "            'attributes': ['station_id', 'name', 'lat', 'long', 'landmark']\n",
    "        },\n",
    "    ],\n",
    "\n",
    "    'edges': [\n",
    "        {\n",
    "            'type'      : 'Trip',\n",
    "            'from'      : {\n",
    "                'key'     :'Start_Terminal',\n",
    "                'node_key': 'Station_id'\n",
    "            },\n",
    "            'to'        : {\n",
    "                'key'     : 'End_Terminal',\n",
    "                'node_key': 'Station_id'\n",
    "            },\n",
    "            'attributes': ['Trip_ID', 'Start_Date', 'End_Date']\n",
    "        }\n",
    "    ]\n",
    "}"
   ]
  },
  {
   "cell_type": "code",
   "execution_count": 35,
   "metadata": {},
   "outputs": [],
   "source": [
    "def create_graph(graph_mapper, nodes_from, edges_from,  graph_type = 'networkx', graph_edges = GraphEdges.UNIDIR):\n",
    "    '''\n",
    "    \n",
    "    Nodes in the graph will have an attribute '_id_' that was originally the key in the source data.\n",
    "    \n",
    "    \n",
    "    params:\n",
    "        graph_mapper:\n",
    "        node_from:\n",
    "        edges_from:\n",
    "        graph_type: 'networkx' | 'graphframe'\n",
    "        graph_edges: GraphEdges enum (UNIDIR | BIDIR)\n",
    "        \n",
    "    return:\n",
    "        constructured \"graph_type\" graph object based on the provided source data and according to \n",
    "        the mapper schema description.\n",
    "    '''\n",
    "    # graph object\n",
    "    gObj = None\n",
    "\n",
    "    if graph_edges == GraphEdges.BIDIR:\n",
    "        gObj = nx.MultiDiGraph()\n",
    "    else:\n",
    "        gObj = nx.MultiGraph()\n",
    "        \n",
    "    assert (gObj != None),\"Graph object wasn't constructed correctly\"\n",
    "\n",
    "    \n",
    "    # get list of node types and edge_types\n",
    "    node_types = graph_mapper['nodes']\n",
    "    edge_types = graph_mapper['edges']\n",
    "    \n",
    "#     print(node_types)\n",
    "#     print(edge_types)\n",
    "    \n",
    "    for node_type in node_types:\n",
    "        assert all(c in nodes_from.columns for c in node_type['attributes']), \\\n",
    "                \"mismatch between nodes_from and mapper's attributes for node: {}\".format(node_type['type'])\n",
    "                \n",
    "        # do selection of attribute list\n",
    "        nodes_df = nodes_from.loc[:,node_type['attributes']]\n",
    "        nodes_df.rename(columns={node_type['key']:'_id_'}, inplace = True)\n",
    "        # set index on the key\n",
    "        nodes_df.set_index('_id_', inplace = True)\n",
    "        nodes_df['_type_'] = node_type['type']\n",
    "        nodes_list = [x for x in nodes_df.to_dict('index').items()]\n",
    "        gObj.add_nodes_from(nodes_list)\n",
    "\n",
    "        \n",
    "    for edge_type in edge_types:\n",
    "        \n",
    "        assert all(c in edges_from.columns for c in edge_type['attributes']), \\\n",
    "                \"mismatch between edges_from and mapper's attributes for edge: {}\".format(edge_type['type'])\n",
    "\n",
    "        src = edge_type['from']['key']\n",
    "        src_index = edges_from.columns.get_loc(src)\n",
    "        dst = edge_type['to']['key']\n",
    "        dst_index = edges_from.columns.get_loc(dst)\n",
    "\n",
    "        for row in edges_from.itertuples():\n",
    "            attr = dict()\n",
    "            attr['_type_'] = edge_type['type']\n",
    "            for a in edge_type['attributes']:\n",
    "                attr[a] = row[edges_from.columns.get_loc(a)]\n",
    "\n",
    "            gObj.add_edges_from([(row[src_index], row[dst_index], attr)])\n",
    "        \n",
    "        \n",
    "#         gObj.add_edges_from(edges_list)\n",
    "    \n",
    "    return gObj"
   ]
  },
  {
   "cell_type": "code",
   "execution_count": 36,
   "metadata": {},
   "outputs": [
    {
     "name": "stdout",
     "output_type": "stream",
     "text": [
      "CPU times: user 4.27 s, sys: 83.4 ms, total: 4.35 s\n",
      "Wall time: 4.35 s\n"
     ]
    }
   ],
   "source": [
    "%%time\n",
    "g = create_graph(graph_mapper = mapper, \n",
    "                 nodes_from = stations_df, \n",
    "                 edges_from = trips_df, \n",
    "                 graph_type = 'networkx')"
   ]
  },
  {
   "cell_type": "code",
   "execution_count": null,
   "metadata": {},
   "outputs": [],
   "source": [
    "nx.number_of_edges(g)"
   ]
  },
  {
   "cell_type": "code",
   "execution_count": null,
   "metadata": {},
   "outputs": [],
   "source": [
    "nx.number_of_nodes(g)"
   ]
  },
  {
   "cell_type": "code",
   "execution_count": null,
   "metadata": {},
   "outputs": [],
   "source": []
  }
 ],
 "metadata": {
  "kernelspec": {
   "display_name": "Python 3",
   "language": "python",
   "name": "python3"
  },
  "language_info": {
   "codemirror_mode": {
    "name": "ipython",
    "version": 3
   },
   "file_extension": ".py",
   "mimetype": "text/x-python",
   "name": "python",
   "nbconvert_exporter": "python",
   "pygments_lexer": "ipython3",
   "version": "3.6.8"
  }
 },
 "nbformat": 4,
 "nbformat_minor": 2
}
