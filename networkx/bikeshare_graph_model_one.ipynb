{
 "cells": [
  {
   "cell_type": "markdown",
   "metadata": {},
   "source": [
    "## This model constuct a networkx graph from data using the following nodes\n",
    "\n",
    "### Nodes:\n",
    "- Station\n",
    "\n",
    "### Edges:\n",
    "- Trip: bike trip between stations"
   ]
  },
  {
   "cell_type": "code",
   "execution_count": 1,
   "metadata": {},
   "outputs": [],
   "source": [
    "import pandas as pd\n",
    "import networkx as nx"
   ]
  },
  {
   "cell_type": "code",
   "execution_count": 2,
   "metadata": {},
   "outputs": [],
   "source": [
    "trips_filename = '../data//201508_trip_data.csv'\n",
    "stations_filename = '../data/201508_station_data.csv'\n",
    "\n",
    "trips_pdf = pd.read_csv(trips_filename)\n",
    "stations_pdf = pd.read_csv(stations_filename)"
   ]
  },
  {
   "cell_type": "code",
   "execution_count": 3,
   "metadata": {},
   "outputs": [],
   "source": [
    "mapper = {\n",
    "    'nodes' = [\n",
    "        {\n",
    "            'label'     : 'Station',\n",
    "            'key'       : 'Station_id',\n",
    "            'attributes': ['Station_id', 'name', 'lat', 'long', 'landmark']\n",
    "        },\n",
    "    ],\n",
    "\n",
    "    'edges'= [\n",
    "        {\n",
    "            'lable'     : 'Trip',\n",
    "            'from'      : 'Start Terminal',\n",
    "            'to'        : 'End Terminal',\n",
    "            'attributes': ['Trip ID', 'Start Date', 'End Date']\n",
    "        }\n",
    "    ]\n",
    "}"
   ]
  },
  {
   "cell_type": "code",
   "execution_count": null,
   "metadata": {},
   "outputs": [],
   "source": []
  },
  {
   "cell_type": "code",
   "execution_count": 4,
   "metadata": {},
   "outputs": [
    {
     "ename": "SyntaxError",
     "evalue": "unexpected EOF while parsing (<ipython-input-4-c8435f6e4ec0>, line 2)",
     "output_type": "error",
     "traceback": [
      "\u001b[0;36m  File \u001b[0;32m\"<ipython-input-4-c8435f6e4ec0>\"\u001b[0;36m, line \u001b[0;32m2\u001b[0m\n\u001b[0;31m    \u001b[0m\n\u001b[0m    ^\u001b[0m\n\u001b[0;31mSyntaxError\u001b[0m\u001b[0;31m:\u001b[0m unexpected EOF while parsing\n"
     ]
    }
   ],
   "source": [
    "def create_graph(graph_mapper, node_from, edges_from,  graph_type = 'networkx'):\n",
    "    "
   ]
  },
  {
   "cell_type": "code",
   "execution_count": 5,
   "metadata": {},
   "outputs": [
    {
     "ename": "NameError",
     "evalue": "name 'create_graph' is not defined",
     "output_type": "error",
     "traceback": [
      "\u001b[0;31m---------------------------------------------------------------------------\u001b[0m",
      "\u001b[0;31mNameError\u001b[0m                                 Traceback (most recent call last)",
      "\u001b[0;32m<ipython-input-5-80eaf03dbcd6>\u001b[0m in \u001b[0;36m<module>\u001b[0;34m\u001b[0m\n\u001b[0;32m----> 1\u001b[0;31m g = create_graph(graph_mapper = mapper, \n\u001b[0m\u001b[1;32m      2\u001b[0m                  \u001b[0mnode_from\u001b[0m \u001b[0;34m=\u001b[0m \u001b[0mtrips_pdf\u001b[0m\u001b[0;34m,\u001b[0m\u001b[0;34m\u001b[0m\u001b[0;34m\u001b[0m\u001b[0m\n\u001b[1;32m      3\u001b[0m                  \u001b[0medges_from\u001b[0m \u001b[0;34m=\u001b[0m \u001b[0mstations_pdf\u001b[0m\u001b[0;34m,\u001b[0m\u001b[0;34m\u001b[0m\u001b[0;34m\u001b[0m\u001b[0m\n\u001b[1;32m      4\u001b[0m                  graph_type = 'networkx')\n",
      "\u001b[0;31mNameError\u001b[0m: name 'create_graph' is not defined"
     ]
    }
   ],
   "source": [
    "g = create_graph(graph_mapper = mapper, \n",
    "                 node_from = trips_pdf, \n",
    "                 edges_from = stations_pdf, \n",
    "                 graph_type = 'networkx')"
   ]
  },
  {
   "cell_type": "code",
   "execution_count": null,
   "metadata": {},
   "outputs": [],
   "source": []
  }
 ],
 "metadata": {
  "kernelspec": {
   "display_name": "Python 3",
   "language": "python",
   "name": "python3"
  },
  "language_info": {
   "codemirror_mode": {
    "name": "ipython",
    "version": 3
   },
   "file_extension": ".py",
   "mimetype": "text/x-python",
   "name": "python",
   "nbconvert_exporter": "python",
   "pygments_lexer": "ipython3",
   "version": "3.6.8"
  }
 },
 "nbformat": 4,
 "nbformat_minor": 2
}
